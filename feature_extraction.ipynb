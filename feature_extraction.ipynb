{
 "cells": [
  {
   "cell_type": "code",
   "execution_count": 10,
   "metadata": {},
   "outputs": [],
   "source": [
    "import cv2\n",
    "import os\n",
    "from skimage import filters, feature\n",
    "import skimage\n",
    "import numpy as np\n",
    "import matplotlib.pyplot as plt"
   ]
  },
  {
   "cell_type": "code",
   "execution_count": 11,
   "metadata": {},
   "outputs": [],
   "source": [
    "def load_images_from_folder(folder):\n",
    "    images = []\n",
    "    for filename in os.listdir(folder):\n",
    "        img = cv2.imread(os.path.join(folder,filename))\n",
    "        if img is not None:\n",
    "            images.append(img)\n",
    "    return images"
   ]
  },
  {
   "cell_type": "code",
   "execution_count": 12,
   "metadata": {},
   "outputs": [
    {
     "ename": "NameError",
     "evalue": "name 'os' is not defined",
     "output_type": "error",
     "traceback": [
      "\u001B[1;31m---------------------------------------------------------------------------\u001B[0m",
      "\u001B[1;31mNameError\u001B[0m                                 Traceback (most recent call last)",
      "Cell \u001B[1;32mIn[12], line 1\u001B[0m\n\u001B[1;32m----> 1\u001B[0m cushion \u001B[38;5;241m=\u001B[39m \u001B[43mload_images_from_folder\u001B[49m\u001B[43m(\u001B[49m\u001B[38;5;124;43m\"\u001B[39;49m\u001B[38;5;124;43mDiamonds2/images/cushion\u001B[39;49m\u001B[38;5;124;43m\"\u001B[39;49m\u001B[43m)\u001B[49m\n\u001B[0;32m      2\u001B[0m cushion \u001B[38;5;241m=\u001B[39m np\u001B[38;5;241m.\u001B[39marray(cushion)\n\u001B[0;32m      3\u001B[0m cushion\u001B[38;5;241m.\u001B[39mshape\n",
      "Cell \u001B[1;32mIn[11], line 3\u001B[0m, in \u001B[0;36mload_images_from_folder\u001B[1;34m(folder)\u001B[0m\n\u001B[0;32m      1\u001B[0m \u001B[38;5;28;01mdef\u001B[39;00m \u001B[38;5;21mload_images_from_folder\u001B[39m(folder):\n\u001B[0;32m      2\u001B[0m     images \u001B[38;5;241m=\u001B[39m []\n\u001B[1;32m----> 3\u001B[0m     \u001B[38;5;28;01mfor\u001B[39;00m filename \u001B[38;5;129;01min\u001B[39;00m \u001B[43mos\u001B[49m\u001B[38;5;241m.\u001B[39mlistdir(folder):\n\u001B[0;32m      4\u001B[0m         img \u001B[38;5;241m=\u001B[39m cv2\u001B[38;5;241m.\u001B[39mimread(os\u001B[38;5;241m.\u001B[39mpath\u001B[38;5;241m.\u001B[39mjoin(folder,filename))\n\u001B[0;32m      5\u001B[0m         \u001B[38;5;28;01mif\u001B[39;00m img \u001B[38;5;129;01mis\u001B[39;00m \u001B[38;5;129;01mnot\u001B[39;00m \u001B[38;5;28;01mNone\u001B[39;00m:\n",
      "\u001B[1;31mNameError\u001B[0m: name 'os' is not defined"
     ]
    }
   ],
   "source": [
    "cushion = load_images_from_folder(\"Diamonds2/images/cushion\")\n",
    "cushion = np.array(cushion)\n",
    "cushion.shape"
   ]
  },
  {
   "cell_type": "code",
   "execution_count": null,
   "metadata": {},
   "outputs": [],
   "source": [
    "emerald = load_images_from_folder(\"Diamonds2/images/emerald\")\n",
    "emerald = np.array(emerald)\n",
    "emerald.shape"
   ]
  },
  {
   "cell_type": "code",
   "execution_count": null,
   "metadata": {},
   "outputs": [],
   "source": [
    "heart = load_images_from_folder(\"Diamonds2/images/heart\")\n",
    "heart = np.array(heart)\n",
    "heart.shape"
   ]
  },
  {
   "cell_type": "code",
   "execution_count": null,
   "metadata": {},
   "outputs": [],
   "source": [
    "marquise = load_images_from_folder(\"Diamonds2/images/marquise\")\n",
    "marquise = np.array(marquise)\n",
    "marquise.shape"
   ]
  },
  {
   "cell_type": "code",
   "execution_count": null,
   "metadata": {},
   "outputs": [],
   "source": [
    "oval = load_images_from_folder(\"Diamonds2/images/oval\")\n",
    "oval = np.array(oval)\n",
    "oval.shape"
   ]
  },
  {
   "cell_type": "code",
   "execution_count": null,
   "metadata": {},
   "outputs": [],
   "source": [
    "pear = load_images_from_folder(\"Diamonds2/images/pear\")\n",
    "pear = np.array(pear)\n",
    "pear.shape"
   ]
  },
  {
   "cell_type": "code",
   "execution_count": null,
   "metadata": {},
   "outputs": [],
   "source": [
    "princess = load_images_from_folder(\"Diamonds2/images/princess\")\n",
    "princess = np.array(princess)\n",
    "princess.shape"
   ]
  },
  {
   "cell_type": "code",
   "execution_count": null,
   "metadata": {},
   "outputs": [],
   "source": [
    "round = load_images_from_folder(\"Diamonds2/images/round\")\n",
    "round = np.array(round)\n",
    "round.shape"
   ]
  },
  {
   "cell_type": "code",
   "execution_count": null,
   "metadata": {},
   "outputs": [],
   "source": [
    "import pandas as pd\n",
    "import numpy as np\n",
    "import os\n",
    "# E.g., cuishons directory and corresponding csv for cuishons \n",
    "# Returns comma-separated values (csv) file is returned as two-dimensional data structure with labeled axes.\n",
    "def extract_data(stone_directory, stone_csv):\n",
    "    csv_data = np.asarray(pd.read_csv(stone_csv))\n",
    "\n",
    "    # parallel arrays with corresponding indices\n",
    "    clarity = []\n",
    "    id = []\n",
    "    image_directory = []\n",
    "    for row in range(len(csv_data)):\n",
    "\n",
    "        stone_directory\n",
    "        for root, _, files in os.walk(stone_directory):\n",
    "            for name in files:\n",
    "                if name.split(\".\")[0]==(str(csv_data[row][0])):\n",
    "                    image_directory.append(os.path.join(root, name))\n",
    "                    id.append(csv_data[row][0])\n",
    "                    clarity.append(csv_data[row][3])\n",
    "\n",
    "    return image_directory, clarity, id"
   ]
  },
  {
   "cell_type": "code",
   "execution_count": null,
   "outputs": [],
   "source": [
    "cushion_images, cushion_clarity, cushion_id = extract_data(\"Diamonds2/images/cushion\", \"Diamonds2/data_cushion.csv\")"
   ],
   "metadata": {
    "collapsed": false
   }
  },
  {
   "cell_type": "code",
   "execution_count": null,
   "outputs": [],
   "source": [
    "emerald_images, emerald_clarity, emerald_id = extract_data(\"Diamonds2/images/emerald\", \"Diamonds2/data_emerald.csv\")"
   ],
   "metadata": {
    "collapsed": false
   }
  },
  {
   "cell_type": "code",
   "execution_count": null,
   "outputs": [],
   "source": [
    "heart_images, heart_clarity, heart_id = extract_data(\"Diamonds2/images/heart\", \"Diamonds2/data_heart.csv\")"
   ],
   "metadata": {
    "collapsed": false
   }
  },
  {
   "cell_type": "code",
   "execution_count": null,
   "metadata": {},
   "outputs": [],
   "source": [
    "marquise_images, marquise_clarity, marquise_id = extract_data(\"Diamonds2/images/marquise\", \"Diamonds2/data_marquise.csv\")"
   ]
  },
  {
   "cell_type": "code",
   "execution_count": null,
   "outputs": [],
   "source": [
    "oval_images, oval_clarity, oval_id = extract_data(\"Diamonds2/images/oval\", \"Diamonds2/data_oval.csv\")"
   ],
   "metadata": {
    "collapsed": false
   }
  },
  {
   "cell_type": "code",
   "execution_count": null,
   "outputs": [],
   "source": [
    "pear_images, pear_clarity, pear_id = extract_data(\"Diamonds2/images/pear\", \"Diamonds2/data_pear.csv\")"
   ],
   "metadata": {
    "collapsed": false
   }
  },
  {
   "cell_type": "code",
   "execution_count": null,
   "outputs": [],
   "source": [
    "princess_images, princess_clarity, princess_id = extract_data(\"Diamonds2/images/princess\", \"Diamonds2/data_princess.csv\")"
   ],
   "metadata": {
    "collapsed": false
   }
  },
  {
   "cell_type": "code",
   "execution_count": null,
   "outputs": [],
   "source": [
    "round_images, round_clarity, round_id = extract_data(\"Diamonds2/images/round\", \"Diamonds2/data_round.csv\")"
   ],
   "metadata": {
    "collapsed": false
   }
  },
  {
   "cell_type": "code",
   "execution_count": null,
   "metadata": {},
   "outputs": [],
   "source": [
    "def load_images(path):\n",
    "    images = []\n",
    "    for file in path:\n",
    "        img = cv2.imread(file)\n",
    "        if img is not None:\n",
    "            images.append(img)\n",
    "    return images "
   ]
  },
  {
   "cell_type": "code",
   "execution_count": null,
   "metadata": {},
   "outputs": [],
   "source": [
    "marquise2 = load_images(marquise_images)\n",
    "marquise2 = np.array(marquise2)\n",
    "marquise2.shape"
   ]
  },
  {
   "cell_type": "code",
   "execution_count": null,
   "outputs": [],
   "source": [
    "def remove_background(filepath):\n",
    "    img = cv2.imread(filepath)\n",
    "\n",
    "    gray = cv2.cvtColor(img, cv2.COLOR_BGR2GRAY)\n",
    "\n",
    "    mask = cv2.threshold(gray, (gray[0][0] - 10), gray[0][0] + 10, cv2.THRESH_BINARY_INV)[1]\n",
    "\n",
    "    mask = cv2.GaussianBlur(mask, (0,0), sigmaX=1, borderType=cv2.BORDER_DEFAULT)\n",
    "\n",
    "    result = img.copy()\n",
    "    result = cv2.cvtColor(result, cv2.COLOR_BGR2BGRA)\n",
    "    result[:, :, 3] = mask\n",
    "\n",
    "    alpha = np.asarray(mask, dtype='float32')/255.0\n",
    "\n",
    "    #White Background - Corresponds to figure 8 in paper\n",
    "    result[:,:,0] = result[:,:,0] * (alpha)\n",
    "    result[:,:,1] = result[:,:,1] * (alpha)\n",
    "    result[:,:,2] = result[:,:,2] * (alpha)\n",
    "\n",
    "    result = result[:,:,0:3]\n",
    "\n",
    "    return result[:,:,0]"
   ],
   "metadata": {
    "collapsed": false
   }
  },
  {
   "cell_type": "code",
   "execution_count": null,
   "outputs": [],
   "source": [
    "plt.imshow(cv2.imread(round_images[68]))"
   ],
   "metadata": {
    "collapsed": false
   }
  },
  {
   "cell_type": "code",
   "execution_count": null,
   "outputs": [],
   "source": [
    "plt.imshow(cv2.imread(round_images[71]))"
   ],
   "metadata": {
    "collapsed": false
   }
  },
  {
   "cell_type": "code",
   "execution_count": null,
   "outputs": [],
   "source": [
    "def get_feature_points(image, feature_width):\n",
    "    # Note that xs and ys represent the coordinates of the image. Thus, xs actually denote the columns\n",
    "    # of the respective points and ys denote the rows of the respective points.\n",
    "\n",
    "    #Calculate the gradient (partial derivatives on two directions).\n",
    "    grad_h = skimage.filters.sobel_h(image)\n",
    "    grad_v = skimage.filters.sobel_v(image)\n",
    "    multiplied_components = np.multiply(grad_v, grad_h)\n",
    "    grad_v_squared = np.square(grad_v) #comp_hh_m\n",
    "    grad_h_squared = np.square(grad_h) #comp_ww_m\n",
    "\n",
    "    #Gaussian Filter\n",
    "    gaussian_grad_v_squared = skimage.filters.gaussian(grad_v_squared) #gass_hh_m\n",
    "    gaussian_grad_h_squared = skimage.filters.gaussian(grad_h_squared) #gass_ww_m\n",
    "    gaussian_multiplied_components = skimage.filters.gaussian(multiplied_components) #gass_hw_m\n",
    "\n",
    "    #\n",
    "    det = np.subtract(np.multiply(gaussian_grad_v_squared, gaussian_grad_h_squared), np.square(gaussian_multiplied_components))\n",
    "    trace = np.add(gaussian_grad_v_squared, gaussian_grad_h_squared)\n",
    "    c = np.subtract(det, 0.035*np.square(trace))\n",
    "    mean = np.mean(c)\n",
    "    # STEP 4: Peak local max to eliminate clusters. (Try different parameters.)\n",
    "    peak_local_max = skimage.feature.peak_local_max(c, feature_width, threshold_abs=mean, indices=True)\n",
    "\n",
    "    xs = peak_local_max[:, 1]\n",
    "\n",
    "    ys = peak_local_max[:, 0]\n",
    "\n",
    "    return xs, ys"
   ],
   "metadata": {
    "collapsed": false
   }
  },
  {
   "cell_type": "code",
   "execution_count": null,
   "outputs": [],
   "source": [
    "Diamond_id = 68\n",
    "fix_image = remove_background(round_images[Diamond_id])\n",
    "x, y = get_feature_points(fix_image, 2)"
   ],
   "metadata": {
    "collapsed": false
   }
  },
  {
   "cell_type": "code",
   "execution_count": null,
   "outputs": [],
   "source": [
    "def plot_interest_points(image, x, y):\n",
    "    my_dpi = 120\n",
    "    fig = plt.figure(figsize=(390/my_dpi, 390/my_dpi), dpi=my_dpi, frameon=False)\n",
    "    plt.axis('off')\n",
    "    plt.scatter(x,y, color=(1,0,0), s=10)\n",
    "    plt.imshow(image, cmap=\"gray\")\n",
    "\n",
    "    fig.savefig(\"Test\", bbox_inches='tight', pad_inches=0)"
   ],
   "metadata": {
    "collapsed": false
   }
  },
  {
   "cell_type": "code",
   "execution_count": null,
   "outputs": [],
   "source": [
    "plot_interest_points(fix_image, x, y)"
   ],
   "metadata": {
    "collapsed": false
   }
  },
  {
   "cell_type": "code",
   "execution_count": null,
   "outputs": [],
   "source": [
    "def save_interest_points_cushion(image, x, y, id):\n",
    "    my_dpi = 120\n",
    "    fig = plt.figure(figsize=(390/my_dpi, 390/my_dpi), dpi=my_dpi, frameon=False)\n",
    "    plt.axis('off')\n",
    "    plt.scatter(x,y, color=(1,0,0), s=10)\n",
    "    plt.imshow(image, cmap=\"gray\")\n",
    "\n",
    "    fig.savefig(\"Diamonds2/images_harris_2/cushion/\" + cushion_id[id], bbox_inches='tight', pad_inches=0)\n",
    "    plt.clf()\n",
    "    fig.clf()\n",
    "\n",
    "def save_interest_points_emerald(image, x, y, id):\n",
    "    my_dpi = 120\n",
    "    fig = plt.figure(figsize=(390/my_dpi, 390/my_dpi), dpi=my_dpi, frameon=False)\n",
    "    plt.axis('off')\n",
    "    plt.scatter(x,y, color=(1,0,0), s=10)\n",
    "    plt.imshow(image, cmap=\"gray\")\n",
    "\n",
    "    fig.savefig(\"Diamonds2/images_harris_2/emerald/\" + emerald_id[id], bbox_inches='tight', pad_inches=0)\n",
    "    plt.clf()\n",
    "    fig.clf()\n",
    "\n",
    "def save_interest_points_heart(image, x, y, id):\n",
    "    my_dpi = 120\n",
    "    fig = plt.figure(figsize=(390/my_dpi, 390/my_dpi), dpi=my_dpi, frameon=False)\n",
    "    plt.axis('off')\n",
    "    plt.scatter(x,y, color=(1,0,0), s=10)\n",
    "    plt.imshow(image, cmap=\"gray\")\n",
    "\n",
    "    fig.savefig(\"Diamonds2/images_harris_2/heart/\" + str(heart_id[id]), bbox_inches='tight', pad_inches=0)\n",
    "    plt.clf()\n",
    "    fig.clf()\n",
    "\n",
    "def save_interest_points_marquise(image, x, y, id):\n",
    "    my_dpi = 120\n",
    "    fig = plt.figure(figsize=(390/my_dpi, 390/my_dpi), dpi=my_dpi, frameon=False)\n",
    "    plt.axis('off')\n",
    "    plt.scatter(x,y, color=(1,0,0), s=10)\n",
    "    plt.imshow(image, cmap=\"gray\")\n",
    "\n",
    "    fig.savefig(\"Diamonds2/images_harris_2/marquise/\" + marquise_id[id], bbox_inches='tight', pad_inches=0)\n",
    "    plt.clf()\n",
    "    fig.clf()\n",
    "\n",
    "def save_interest_points_oval(image, x, y, id):\n",
    "    my_dpi = 120\n",
    "    fig = plt.figure(figsize=(390/my_dpi, 390/my_dpi), dpi=my_dpi, frameon=False)\n",
    "    plt.axis('off')\n",
    "    plt.scatter(x,y, color=(1,0,0), s=10)\n",
    "    plt.imshow(image, cmap=\"gray\")\n",
    "\n",
    "    fig.savefig(\"Diamonds2/images_harris_2/oval/\" + oval_id[id], bbox_inches='tight', pad_inches=0)\n",
    "    plt.clf()\n",
    "    fig.clf()\n",
    "\n",
    "def save_interest_points_pear(image, x, y, id):\n",
    "    my_dpi = 120\n",
    "    fig = plt.figure(figsize=(390/my_dpi, 390/my_dpi), dpi=my_dpi, frameon=False)\n",
    "    plt.axis('off')\n",
    "    plt.scatter(x,y, color=(1,0,0), s=10)\n",
    "    plt.imshow(image, cmap=\"gray\")\n",
    "\n",
    "    fig.savefig(\"Diamonds2/images_harris_2/pear/\" + pear_id[id], bbox_inches='tight', pad_inches=0)\n",
    "    plt.clf()\n",
    "    fig.clf()\n",
    "\n",
    "def save_interest_points_princess(image, x, y, id):\n",
    "    my_dpi = 120\n",
    "    fig = plt.figure(figsize=(390/my_dpi, 390/my_dpi), dpi=my_dpi, frameon=False)\n",
    "    plt.axis('off')\n",
    "    plt.scatter(x,y, color=(1,0,0), s=10)\n",
    "    plt.imshow(image, cmap=\"gray\")\n",
    "\n",
    "    fig.savefig(\"Diamonds2/images_harris_2/princess/\" + princess_id[id], bbox_inches='tight', pad_inches=0)\n",
    "    plt.clf()\n",
    "    fig.clf()\n",
    "\n",
    "def save_interest_points_round(image, x, y, id):\n",
    "    my_dpi = 120\n",
    "    fig = plt.figure(figsize=(390/my_dpi, 390/my_dpi), dpi=my_dpi, frameon=False)\n",
    "    plt.axis('off')\n",
    "    plt.scatter(x,y, color=(1,0,0), s=10)\n",
    "    plt.imshow(image, cmap=\"gray\")\n",
    "\n",
    "    fig.savefig(\"Diamonds2/images_harris_2/round/\" + round_id[id], bbox_inches='tight', pad_inches=0)\n",
    "    plt.clf()\n",
    "    fig.clf()"
   ],
   "metadata": {
    "collapsed": false
   }
  },
  {
   "cell_type": "code",
   "execution_count": null,
   "outputs": [],
   "source": [
    "for img in range(len(cushion_images)):\n",
    "    fixed_image = remove_background(cushion_images[img])\n",
    "    x, y = get_feature_points(fixed_image, 2)\n",
    "    save_interest_points_cushion(fixed_image, x, y, img)\n",
    "    x = []\n",
    "    y = []"
   ],
   "metadata": {
    "collapsed": false
   }
  },
  {
   "cell_type": "code",
   "execution_count": null,
   "outputs": [],
   "source": [
    "for img in range(len(emerald_images)):\n",
    "\n",
    "    fixed_image = remove_background(emerald_images[img])\n",
    "\n",
    "    x, y = get_feature_points(fixed_image, 2)\n",
    "    save_interest_points_emerald(fixed_image, x, y, img)\n",
    "    x = []\n",
    "    y = []"
   ],
   "metadata": {
    "collapsed": false
   }
  },
  {
   "cell_type": "code",
   "execution_count": null,
   "outputs": [],
   "source": [
    "for img in range(len(heart_images)):\n",
    "\n",
    "    fixed_image = remove_background(heart_images[img])\n",
    "\n",
    "    x, y = get_feature_points(fixed_image, 2)\n",
    "\n",
    "    save_interest_points_heart(fixed_image, x, y, img)\n",
    "\n",
    "    x = []\n",
    "    y = []"
   ],
   "metadata": {
    "collapsed": false
   }
  },
  {
   "cell_type": "code",
   "execution_count": null,
   "outputs": [],
   "source": [
    "for img in range(len(marquise_images)):\n",
    "\n",
    "    fixed_image = remove_background(marquise_images[img])\n",
    "\n",
    "    x, y = get_feature_points(fixed_image, 2)\n",
    "\n",
    "    save_interest_points_marquise(fixed_image, x, y, img)\n",
    "\n",
    "    x = []\n",
    "    y = []"
   ],
   "metadata": {
    "collapsed": false
   }
  },
  {
   "cell_type": "code",
   "execution_count": null,
   "outputs": [],
   "source": [
    "for img in range(len(oval_images)):\n",
    "\n",
    "    fixed_image = remove_background(oval_images[img])\n",
    "\n",
    "    x, y = get_feature_points(fixed_image, 2)\n",
    "\n",
    "    save_interest_points_oval(fixed_image, x, y, img)\n",
    "\n",
    "    x = []\n",
    "    y = []"
   ],
   "metadata": {
    "collapsed": false
   }
  },
  {
   "cell_type": "code",
   "execution_count": null,
   "outputs": [],
   "source": [
    "for img in range(len(pear_images)):\n",
    "\n",
    "    fixed_image = remove_background(pear_images[img])\n",
    "\n",
    "    x, y = get_feature_points(fixed_image, 2)\n",
    "\n",
    "    save_interest_points_pear(fixed_image, x, y, img)\n",
    "\n",
    "    x = []\n",
    "    y = []"
   ],
   "metadata": {
    "collapsed": false
   }
  },
  {
   "cell_type": "code",
   "execution_count": null,
   "outputs": [],
   "source": [
    "for img in range(len(princess_images)):\n",
    "\n",
    "    fixed_image = remove_background(princess_images[img])\n",
    "\n",
    "    x, y = get_feature_points(fixed_image, 2)\n",
    "\n",
    "    save_interest_points_princess(fixed_image, x, y, img)\n",
    "\n",
    "    x = []\n",
    "    y = []"
   ],
   "metadata": {
    "collapsed": false
   }
  },
  {
   "cell_type": "code",
   "execution_count": null,
   "outputs": [],
   "source": [
    "for img in range(len(round_images)):\n",
    "\n",
    "    fixed_image = remove_background(round_images[img])\n",
    "\n",
    "    x, y = get_feature_points(fixed_image, 2)\n",
    "\n",
    "    save_interest_points_round(fixed_image, x, y, img)\n",
    "\n",
    "    x = []\n",
    "    y = []"
   ],
   "metadata": {
    "collapsed": false
   }
  }
 ],
 "metadata": {
  "kernelspec": {
   "display_name": "Python 3.9.13 ('cs1430')",
   "language": "python",
   "name": "python3"
  },
  "language_info": {
   "codemirror_mode": {
    "name": "ipython",
    "version": 3
   },
   "file_extension": ".py",
   "mimetype": "text/x-python",
   "name": "python",
   "nbconvert_exporter": "python",
   "pygments_lexer": "ipython3",
   "version": "3.9.13"
  },
  "orig_nbformat": 4,
  "vscode": {
   "interpreter": {
    "hash": "9dbb62b98e67a939a94a70763584309c1c038f850ab93252c3df48ff27585dc0"
   }
  }
 },
 "nbformat": 4,
 "nbformat_minor": 2
}
